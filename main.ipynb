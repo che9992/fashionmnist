{
 "cells": [
  {
   "cell_type": "markdown",
   "metadata": {},
   "source": [
    "## MNIST Dataset with softmax\n",
    "## fashionmnist\n",
    "<hr/>"
   ]
  },
  {
   "cell_type": "code",
   "execution_count": 1,
   "metadata": {},
   "outputs": [
    {
     "name": "stderr",
     "output_type": "stream",
     "text": [
      "/Users/che/anaconda3/lib/python3.6/site-packages/h5py/__init__.py:36: FutureWarning: Conversion of the second argument of issubdtype from `float` to `np.floating` is deprecated. In future, it will be treated as `np.float64 == np.dtype(float).type`.\n",
      "  from ._conv import register_converters as _register_converters\n"
     ]
    }
   ],
   "source": [
    "import numpy as np\n",
    "import pandas as pd\n",
    "import tensorflow as tf\n",
    "import matplotlib.pyplot as plt"
   ]
  },
  {
   "cell_type": "code",
   "execution_count": 2,
   "metadata": {},
   "outputs": [],
   "source": [
    "#import and cut datas\n",
    "train_data = pd.read_csv('fashion-mnist_train.csv', dtype='float32')\n",
    "train_data = np.array(train_data)\n",
    "train_Y = train_data[:,[0]]\n",
    "train_X = train_data[:,1:]"
   ]
  },
  {
   "cell_type": "markdown",
   "metadata": {},
   "source": [
    "## Check train images using matplotlib"
   ]
  },
  {
   "cell_type": "code",
   "execution_count": 3,
   "metadata": {},
   "outputs": [
    {
     "name": "stdout",
     "output_type": "stream",
     "text": [
      "WARNING:tensorflow:From <ipython-input-3-d224697a1d8e>:5: arg_max (from tensorflow.python.ops.gen_math_ops) is deprecated and will be removed in a future version.\n",
      "Instructions for updating:\n",
      "Use `argmax` instead\n",
      "[123] [477] [708] [408] [260] [384] [45] [467] [96] [748] "
     ]
    },
    {
     "data": {
      "image/png": "[encoded data removed]",
      "text/plain": [
       "<Figure size 432x288 with 10 Axes>"
      ]
     },
     "metadata": {},
     "output_type": "display_data"
    }
   ],
   "source": [
    "# check train images\n",
    "check = tf.Session()\n",
    "for r in range(0,10):\n",
    "    plt.subplot(3,5,r+1)\n",
    "    print(check.run(tf.arg_max(train_X[r:r+1],1)), end=' ')\n",
    "    plt.imshow(train_X[r:r+1].reshape(28, 28),\n",
    "              cmap = 'Greys', interpolation='nearest')\n",
    "    plt.tight_layout()\n",
    "check.close()"
   ]
  },
  {
   "cell_type": "markdown",
   "metadata": {},
   "source": [
    "## Building custom Batch generator "
   ]
  },
  {
   "cell_type": "code",
   "execution_count": 4,
   "metadata": {},
   "outputs": [],
   "source": [
    "__author__ = \"cheayoung jung <che9992@gmail.com>\"\n",
    "__version__ = \"2018-06-01\"\n",
    "\n",
    "class BatchGenerator():\n",
    "    where = 0\n",
    "    '''\n",
    "    usage\n",
    "    \n",
    "    var = BatchGenerator(xdata, ydata, batch_size = 100)\n",
    "    var.x \n",
    "    var.y\n",
    "    var.next()\n",
    "    \n",
    "    '''\n",
    "    \n",
    "    def __init__(self, x, y, batch_size, one_hot = False, nb_classes = 0):\n",
    "        self.nb_classes = nb_classes\n",
    "        self.one_hot = one_hot\n",
    "        self.x_ = x\n",
    "        self.y_ = y\n",
    "        self.batch_size = batch_size\n",
    "        \n",
    "        self.total_batch = int(len(x) / batch_size)\n",
    "        self.x = self.x_[:batch_size,:]\n",
    "        self.y = self.y_[:batch_size,:]\n",
    "        self.where = batch_size\n",
    "        \n",
    "        if self.one_hot :\n",
    "            self.set_one_hot()\n",
    "\n",
    "    def next_batch(self):\n",
    "        if self.where + self.batch_size > len(self.x_) :\n",
    "            self.where = 0\n",
    "            \n",
    "        self.x = self.x_[self.where:self.where+self.batch_size,:]\n",
    "        self.y = self.y_[self.where:self.where+self.batch_size,:]\n",
    "        self.where += self.batch_size\n",
    "        \n",
    "        if self.one_hot:\n",
    "            self.set_one_hot()\n",
    "        \n",
    "    def set_one_hot(self):\n",
    "        self.y = np.int32(self.y)\n",
    "        one_hot = np.array(self.y).reshape(-1)\n",
    "        self.y = np.eye(self.nb_classes)[one_hot].astype(np.int)\n",
    "\n"
   ]
  },
  {
   "cell_type": "markdown",
   "metadata": {},
   "source": [
    "## Set Variables, placeholder and train model to using TF"
   ]
  },
  {
   "cell_type": "code",
   "execution_count": 48,
   "metadata": {
    "scrolled": true
   },
   "outputs": [],
   "source": [
    "tf.reset_default_graph()\n",
    "\n",
    "# there are 10 of type fashion items \n",
    "nb_classes = 10\n",
    "\n",
    "# set tf variables \n",
    "X = tf.placeholder(tf.float32, shape=[None, 784])\n",
    "Y = tf.placeholder(tf.float32, shape=[None, nb_classes])\n",
    "\n",
    "'''\n",
    "W1 = tf.Variable(tf.random_normal([784, 1000]))\n",
    "b1 = tf.Variable(tf.random_normal([1000]))\n",
    "layer1 = tf.sigmoid(tf.matmul(X, W1) + b1)\n",
    "\n",
    "W2 = tf.Variable(tf.random_normal([1000, 1000]))\n",
    "b2 = tf.Variable(tf.random_normal([1000]))\n",
    "layer2 = tf.nn.relu(tf.matmul(layer1, W2) + b2)\n",
    "\n",
    "W3 = tf.Variable(tf.random_normal([1000, 1000]))\n",
    "b3 = tf.Variable(tf.random_normal([1000]))\n",
    "layer3 = tf.sigmoid(tf.matmul(layer2, W3) + b3)\n",
    "\n",
    "W4 = tf.Variable(tf.random_normal([1000, nb_classes]))\n",
    "b4 = tf.Variable(tf.random_normal([nb_classes]))\n",
    "logits = tf.matmul(layer3, W4) + b4\n",
    "hypothesis = tf.nn.softmax(logits)\n",
    "'''\n",
    "\n",
    "W1 = tf.get_variable('W1',shape=[784, 256], initializer=tf.contrib.layers.xavier_initializer())\n",
    "b1 = tf.Variable(tf.random_normal([256]))\n",
    "layer1 = tf.nn.relu(tf.matmul(X, W1) + b1)\n",
    "\n",
    "W2 = tf.get_variable('W2',shape=[256, 256], initializer=tf.contrib.layers.xavier_initializer())\n",
    "b2 = tf.Variable(tf.random_normal([256]))\n",
    "layer2 = tf.sigmoid(tf.matmul(layer1, W2) + b2)\n",
    "\n",
    "W3 = tf.get_variable('W3',shape=[256, 256], initializer=tf.contrib.layers.xavier_initializer())\n",
    "b3 = tf.Variable(tf.random_normal([256]))\n",
    "layer3 = tf.sigmoid(tf.matmul(layer2, W3) + b3)\n",
    "\n",
    "W4 = tf.get_variable('W4',shape=[256, nb_classes], initializer=tf.contrib.layers.xavier_initializer())\n",
    "b4 = tf.Variable(tf.random_normal([nb_classes]))\n",
    "logits = tf.matmul(layer3, W4) + b4\n",
    "hypothesis = tf.nn.softmax(logits)\n",
    "\n",
    "\n",
    "\n",
    "cost = tf.reduce_mean(tf.nn.softmax_cross_entropy_with_logits(logits = logits, labels = Y))\n",
    "#cost = tf.reduce_mean(-tf.reduce_sum(Y * tf.log(hypothesis), axis = 1))\n",
    "\n",
    "\n",
    "\n",
    "train = tf.train.GradientDescentOptimizer(learning_rate= 0.03).minimize(cost)\n",
    "\n",
    "datas = BatchGenerator(train_X, train_Y, batch_size=200, one_hot=True, nb_classes=nb_classes)\n",
    "\n",
    "\n",
    "#prediction \n",
    "correct_prediction = tf.equal(tf.argmax(hypothesis, 1), tf.arg_max(Y, 1))\n",
    "\n",
    "#accuracy\n",
    "accuracy = tf.reduce_mean(tf.cast(correct_prediction, tf.float32))"
   ]
  },
  {
   "cell_type": "code",
   "execution_count": 49,
   "metadata": {},
   "outputs": [],
   "source": [
    "sess = tf.Session()\n",
    "sess.run(tf.global_variables_initializer())"
   ]
  },
  {
   "cell_type": "code",
   "execution_count": 50,
   "metadata": {},
   "outputs": [
    {
     "data": {
      "text/plain": [
       "3.0266988"
      ]
     },
     "execution_count": 50,
     "metadata": {},
     "output_type": "execute_result"
    }
   ],
   "source": [
    "sess.run(cost, feed_dict = {X: datas.x, Y: datas.y})"
   ]
  },
  {
   "cell_type": "markdown",
   "metadata": {},
   "source": [
    "## Training !"
   ]
  },
  {
   "cell_type": "code",
   "execution_count": 51,
   "metadata": {},
   "outputs": [
    {
     "name": "stdout",
     "output_type": "stream",
     "text": [
      "step : 0 cost: 1.46676089\tAccuracy: 73.000001907% \n",
      "step : 1 cost: 0.77440463\tAccuracy: 76.499998569% \n",
      "step : 2 cost: 0.59673885\tAccuracy: 76.499998569% \n",
      "step : 3 cost: 0.52253980\tAccuracy: 81.499999762% \n",
      "step : 4 cost: 0.48089297\tAccuracy: 79.500001669% \n",
      "step : 5 cost: 0.45389829\tAccuracy: 81.000000238% \n",
      "step : 6 cost: 0.43460372\tAccuracy: 80.500000715% \n",
      "step : 7 cost: 0.41845270\tAccuracy: 79.000002146% \n",
      "step : 8 cost: 0.40763945\tAccuracy: 80.500000715% \n",
      "step : 9 cost: 0.39840226\tAccuracy: 84.500002861% \n",
      "step : 10 cost: 0.39052153\tAccuracy: 82.999998331% \n",
      "step : 11 cost: 0.37931720\tAccuracy: 82.499998808% \n",
      "step : 12 cost: 0.37110165\tAccuracy: 82.999998331% \n",
      "step : 13 cost: 0.36483677\tAccuracy: 83.499997854% \n",
      "step : 14 cost: 0.35785534\tAccuracy: 83.499997854% \n",
      "step : 15 cost: 0.34902607\tAccuracy: 84.500002861% \n",
      "step : 16 cost: 0.34480561\tAccuracy: 83.999997377% \n",
      "step : 17 cost: 0.33961123\tAccuracy: 84.500002861% \n",
      "step : 18 cost: 0.33629616\tAccuracy: 85.000002384% \n",
      "step : 19 cost: 0.33088875\tAccuracy: 85.500001907% \n",
      "step : 20 cost: 0.32642601\tAccuracy: 86.500000954% \n",
      "step : 21 cost: 0.32134028\tAccuracy: 83.499997854% \n",
      "step : 22 cost: 0.32131704\tAccuracy: 85.500001907% \n",
      "step : 23 cost: 0.31744561\tAccuracy: 85.500001907% \n",
      "step : 24 cost: 0.31155214\tAccuracy: 87.500000000% \n",
      "step : 25 cost: 0.30981989\tAccuracy: 86.500000954% \n",
      "step : 26 cost: 0.30618362\tAccuracy: 86.000001431% \n",
      "step : 27 cost: 0.30206955\tAccuracy: 84.500002861% \n",
      "step : 28 cost: 0.29833148\tAccuracy: 86.000001431% \n",
      "step : 29 cost: 0.29631307\tAccuracy: 87.000000477% \n",
      "step : 30 cost: 0.29449203\tAccuracy: 86.500000954% \n",
      "step : 31 cost: 0.29207203\tAccuracy: 85.500001907% \n",
      "step : 32 cost: 0.28735160\tAccuracy: 87.000000477% \n",
      "step : 33 cost: 0.28739920\tAccuracy: 88.999998569% \n",
      "step : 34 cost: 0.28519994\tAccuracy: 87.500000000% \n",
      "step : 35 cost: 0.28257790\tAccuracy: 87.999999523% \n",
      "step : 36 cost: 0.27936853\tAccuracy: 87.500000000% \n",
      "step : 37 cost: 0.27495621\tAccuracy: 89.499998093% \n",
      "step : 38 cost: 0.27453265\tAccuracy: 89.999997616% \n",
      "step : 39 cost: 0.26957650\tAccuracy: 89.499998093% \n",
      "step : 40 cost: 0.26681055\tAccuracy: 88.999998569% \n",
      "step : 41 cost: 0.26835780\tAccuracy: 88.499999046% \n",
      "step : 42 cost: 0.26752807\tAccuracy: 87.500000000% \n",
      "step : 43 cost: 0.26881416\tAccuracy: 87.000000477% \n",
      "step : 44 cost: 0.26045216\tAccuracy: 90.499997139% \n",
      "step : 45 cost: 0.26139038\tAccuracy: 89.999997616% \n",
      "step : 46 cost: 0.25669758\tAccuracy: 90.499997139% \n",
      "step : 47 cost: 0.25406314\tAccuracy: 91.500002146% \n",
      "step : 48 cost: 0.25135519\tAccuracy: 90.499997139% \n",
      "step : 49 cost: 0.24988146\tAccuracy: 89.499998093% \n",
      "step : 50 cost: 0.25098572\tAccuracy: 91.000002623% \n",
      "step : 51 cost: 0.24799627\tAccuracy: 90.499997139% \n",
      "step : 52 cost: 0.24435239\tAccuracy: 89.999997616% \n",
      "step : 53 cost: 0.24786132\tAccuracy: 90.499997139% \n",
      "step : 54 cost: 0.24067940\tAccuracy: 92.000001669% \n",
      "step : 55 cost: 0.23914315\tAccuracy: 92.500001192% \n",
      "step : 56 cost: 0.23697680\tAccuracy: 89.499998093% \n",
      "step : 57 cost: 0.23539195\tAccuracy: 90.499997139% \n",
      "step : 58 cost: 0.23662378\tAccuracy: 91.500002146% \n",
      "step : 59 cost: 0.23612973\tAccuracy: 93.500000238% \n",
      "step : 60 cost: 0.23401303\tAccuracy: 92.500001192% \n",
      "step : 61 cost: 0.23248528\tAccuracy: 91.000002623% \n",
      "step : 62 cost: 0.23170278\tAccuracy: 91.000002623% \n",
      "step : 63 cost: 0.22419779\tAccuracy: 92.000001669% \n",
      "step : 64 cost: 0.22651896\tAccuracy: 91.000002623% \n",
      "step : 65 cost: 0.22582660\tAccuracy: 90.499997139% \n",
      "step : 66 cost: 0.22629604\tAccuracy: 89.499998093% \n",
      "step : 67 cost: 0.22104803\tAccuracy: 92.500001192% \n",
      "step : 68 cost: 0.21905452\tAccuracy: 89.999997616% \n",
      "step : 69 cost: 0.21982261\tAccuracy: 92.500001192% \n",
      "step : 70 cost: 0.21737081\tAccuracy: 91.000002623% \n",
      "step : 71 cost: 0.21773307\tAccuracy: 91.000002623% \n",
      "step : 72 cost: 0.21469227\tAccuracy: 91.000002623% \n",
      "step : 73 cost: 0.21428023\tAccuracy: 91.000002623% \n",
      "step : 74 cost: 0.20932768\tAccuracy: 91.500002146% \n",
      "step : 75 cost: 0.21279198\tAccuracy: 91.500002146% \n",
      "step : 76 cost: 0.20966244\tAccuracy: 92.500001192% \n",
      "step : 77 cost: 0.20973767\tAccuracy: 92.000001669% \n",
      "step : 78 cost: 0.20872708\tAccuracy: 92.500001192% \n",
      "step : 79 cost: 0.20479692\tAccuracy: 92.500001192% \n",
      "step : 80 cost: 0.20575033\tAccuracy: 92.000001669% \n",
      "step : 81 cost: 0.20363644\tAccuracy: 92.000001669% \n",
      "step : 82 cost: 0.20573048\tAccuracy: 91.000002623% \n",
      "step : 83 cost: 0.20380371\tAccuracy: 89.999997616% \n",
      "step : 84 cost: 0.20029862\tAccuracy: 92.000001669% \n",
      "step : 85 cost: 0.20216683\tAccuracy: 93.500000238% \n",
      "step : 86 cost: 0.19661311\tAccuracy: 91.500002146% \n",
      "step : 87 cost: 0.19944407\tAccuracy: 91.500002146% \n",
      "step : 88 cost: 0.19332615\tAccuracy: 91.000002623% \n",
      "step : 89 cost: 0.19280525\tAccuracy: 91.500002146% \n",
      "step : 90 cost: 0.19162958\tAccuracy: 91.000002623% \n",
      "step : 91 cost: 0.19121623\tAccuracy: 93.000000715% \n",
      "step : 92 cost: 0.19311603\tAccuracy: 92.000001669% \n",
      "step : 93 cost: 0.19304178\tAccuracy: 92.000001669% \n",
      "step : 94 cost: 0.19181082\tAccuracy: 93.999999762% \n",
      "step : 95 cost: 0.18852646\tAccuracy: 93.500000238% \n",
      "step : 96 cost: 0.18655411\tAccuracy: 92.000001669% \n",
      "step : 97 cost: 0.18597144\tAccuracy: 93.000000715% \n",
      "step : 98 cost: 0.18485178\tAccuracy: 92.500001192% \n",
      "step : 99 cost: 0.18501087\tAccuracy: 93.000000715% \n"
     ]
    }
   ],
   "source": [
    "# run!\n",
    "for step in range(100):\n",
    "    av_cost = 0\n",
    "    for i in range(datas.total_batch):\n",
    "        co_v, _ = sess.run([cost, train], feed_dict = {X: datas.x, Y: datas.y})\n",
    "        av_cost += co_v / datas.total_batch\n",
    "        datas.next_batch()\n",
    "    \n",
    "\n",
    "    print('step : {} cost: {:.8f}'.format(step, av_cost),end='\\t')\n",
    "    print('Accuracy: {:.9f}% ' .format(\n",
    "        accuracy.eval(\n",
    "        session=sess, \n",
    "        feed_dict = {X: datas.x, Y: datas.y}) * 100))"
   ]
  },
  {
   "cell_type": "markdown",
   "metadata": {},
   "source": [
    "## Test model with test datas "
   ]
  },
  {
   "cell_type": "code",
   "execution_count": 53,
   "metadata": {},
   "outputs": [
    {
     "name": "stdout",
     "output_type": "stream",
     "text": [
      "----- TEST -----\n",
      "Accuracy: 92.90% \n",
      "\n"
     ]
    },
    {
     "data": {
      "image/png": "[encoded data removed]",
      "text/plain": [
       "<Figure size 432x288 with 9 Axes>"
      ]
     },
     "metadata": {},
     "output_type": "display_data"
    }
   ],
   "source": [
    "\n",
    "import random\n",
    "#import and cut datas\n",
    "test_data = pd.read_csv('fashion-mnist_test.csv', dtype='float32')\n",
    "test_data = np.array(train_data)\n",
    "test_Y = test_data[:,[0]]\n",
    "test_X = test_data[:,1:]\n",
    "\n",
    "test = BatchGenerator(test_X, test_Y, batch_size=50000 ,one_hot=True, nb_classes=10)\n",
    "\n",
    "\n",
    "print('----- TEST -----')\n",
    "print('Accuracy: {:.2f}% \\n' \n",
    "      .format(accuracy.eval(session=sess, feed_dict={X:test.x, Y:test.y}) * 100 ,'%'))\n",
    "\n",
    "for i in range(9):\n",
    "    \n",
    "    r = random.randint(0, 1000 - 1)\n",
    "    plt.subplot(3,3,i+1)\n",
    "\n",
    "    plt.title('Label: {}, Pre: {}'.format(sess.run(tf.arg_max(test.y[r:r+1], 1)),\n",
    "                                                  sess.run(tf.arg_max(hypothesis, 1), \n",
    "                                                           feed_dict={X: test.x[r:r+1]})))\n",
    "    plt.imshow(test.x[r:r+1].reshape(28, 28),\n",
    "          cmap = 'Greys', interpolation='nearest')\n",
    "    plt.tight_layout()"
   ]
  },
  {
   "cell_type": "code",
   "execution_count": null,
   "metadata": {},
   "outputs": [],
   "source": []
  },
  {
   "cell_type": "code",
   "execution_count": null,
   "metadata": {},
   "outputs": [],
   "source": []
  }
 ],
 "metadata": {
  "kernelspec": {
   "display_name": "Python 3",
   "language": "python",
   "name": "python3"
  },
  "language_info": {
   "codemirror_mode": {
    "name": "ipython",
    "version": 3
   },
   "file_extension": ".py",
   "mimetype": "text/x-python",
   "name": "python",
   "nbconvert_exporter": "python",
   "pygments_lexer": "ipython3",
   "version": "3.6.4"
  }
 },
 "nbformat": 4,
 "nbformat_minor": 2
}
