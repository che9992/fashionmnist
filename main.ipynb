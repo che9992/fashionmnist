{
 "cells": [
  {
   "cell_type": "markdown",
   "metadata": {},
   "source": [
    "## MNIST Dataset with softmax\n",
    "## fashionmnist\n",
    "<hr/>"
   ]
  },
  {
   "cell_type": "code",
   "execution_count": 1,
   "metadata": {},
   "outputs": [
    {
     "name": "stderr",
     "output_type": "stream",
     "text": [
      "/Users/che/anaconda3/lib/python3.6/site-packages/h5py/__init__.py:36: FutureWarning: Conversion of the second argument of issubdtype from `float` to `np.floating` is deprecated. In future, it will be treated as `np.float64 == np.dtype(float).type`.\n",
      "  from ._conv import register_converters as _register_converters\n"
     ]
    }
   ],
   "source": [
    "import numpy as np\n",
    "import pandas as pd\n",
    "import tensorflow as tf\n",
    "import matplotlib.pyplot as plt"
   ]
  },
  {
   "cell_type": "code",
   "execution_count": 32,
   "metadata": {},
   "outputs": [],
   "source": [
    "#import and cut datas\n",
    "train_data = pd.read_csv('fashion-mnist_train.csv', dtype='float32')\n",
    "train_data = np.array(train_data)\n",
    "train_Y = train_data[:,[0]]\n",
    "train_X = train_data[:,1:]"
   ]
  },
  {
   "cell_type": "markdown",
   "metadata": {},
   "source": [
    "## Check train images using matplotlib"
   ]
  },
  {
   "cell_type": "code",
   "execution_count": 108,
   "metadata": {},
   "outputs": [
    {
     "name": "stdout",
     "output_type": "stream",
     "text": [
      "[123] [477] [708] [408] [260] [384] [45] [467] [96] [748] "
     ]
    },
    {
     "data": {
      "image/png": "[encoded data removed]",
      "text/plain": [
       "<Figure size 432x288 with 10 Axes>"
      ]
     },
     "metadata": {},
     "output_type": "display_data"
    }
   ],
   "source": [
    "# check train images\n",
    "check = tf.Session()\n",
    "for r in range(0,10):\n",
    "    plt.subplot(3,5,r+1)\n",
    "    print(check.run(tf.arg_max(train_X[r:r+1],1)), end=' ')\n",
    "    plt.imshow(train_X[r:r+1].reshape(28, 28),\n",
    "              cmap = 'Greys', interpolation='nearest')\n",
    "    plt.tight_layout()\n",
    "check.close()"
   ]
  },
  {
   "cell_type": "markdown",
   "metadata": {},
   "source": [
    "## Building custom Batch generator "
   ]
  },
  {
   "cell_type": "code",
   "execution_count": 33,
   "metadata": {},
   "outputs": [],
   "source": [
    "# Coding custom Batch Generator \n",
    "class BatchGenerator():\n",
    "    where = 0\n",
    "    def __init__(self, x, y, batch_size, one_hot = False, nb_classes = 0):\n",
    "        self.nb_classes = nb_classes\n",
    "        self.one_hot = one_hot\n",
    "        self.x_ = x\n",
    "        self.y_ = y\n",
    "        self.batch_size = batch_size\n",
    "        \n",
    "        self.total_batch = int(len(x) / batch_size)\n",
    "        self.x = self.x_[:batch_size,:]\n",
    "        self.y = self.y_[:batch_size,:]\n",
    "        self.where = 100\n",
    "        \n",
    "        if self.one_hot :\n",
    "            self.set_one_hot()\n",
    "\n",
    "    def next_batch(self):\n",
    "        if self.where + self.batch_size > len(self.x_) :\n",
    "            self.where = 0\n",
    "            \n",
    "        self.x = self.x_[self.where:self.where+self.batch_size,:]\n",
    "        self.y = self.y_[self.where:self.where+self.batch_size,:]\n",
    "        self.where += self.batch_size\n",
    "        \n",
    "        if self.one_hot:\n",
    "            self.set_one_hot()\n",
    "        \n",
    "    def set_one_hot(self):\n",
    "        self.y = np.int32(self.y)\n",
    "        one_hot = np.array(self.y).reshape(-1)\n",
    "        self.y = np.eye(self.nb_classes)[one_hot]\n"
   ]
  },
  {
   "cell_type": "markdown",
   "metadata": {},
   "source": [
    "## Set Variables, placeholder and train model to using TF"
   ]
  },
  {
   "cell_type": "code",
   "execution_count": 111,
   "metadata": {
    "scrolled": true
   },
   "outputs": [],
   "source": [
    "# there are 10 of type fashion items \n",
    "nb_classes = 10\n",
    "\n",
    "# set tf variables \n",
    "X = tf.placeholder(tf.float32, shape=[None, 784])\n",
    "Y = tf.placeholder(tf.float32, shape=[None, nb_classes])\n",
    "W = tf.Variable(tf.random_normal([784, nb_classes]))\n",
    "b = tf.Variable(tf.random_normal([nb_classes]))\n",
    "\n",
    "\n",
    "logits = tf.matmul(X, W) + b\n",
    "hypothesis = tf.nn.softmax(logits)\n",
    "\n",
    "cost_i = tf.nn.softmax_cross_entropy_with_logits(logits = logits, labels = Y)\n",
    "cost = tf.reduce_mean(cost_i)\n",
    "\n",
    "train = tf.train.GradientDescentOptimizer(learning_rate= 0.001).minimize(cost)\n",
    "\n",
    "datas = BatchGenerator(train_X, train_Y, batch_size=100, one_hot=True, nb_classes=nb_classes)\n",
    "\n",
    "\n",
    "#prediction \n",
    "correct_prediction = tf.equal(tf.argmax(hypothesis, 1), tf.arg_max(Y, 1))\n",
    "\n",
    "#accuracy\n",
    "accuracy = tf.reduce_mean(tf.cast(correct_prediction, tf.float32))"
   ]
  },
  {
   "cell_type": "code",
   "execution_count": 112,
   "metadata": {},
   "outputs": [],
   "source": [
    "sess = tf.Session()\n",
    "sess.run(tf.global_variables_initializer())"
   ]
  },
  {
   "cell_type": "markdown",
   "metadata": {},
   "source": [
    "## Training !"
   ]
  },
  {
   "cell_type": "code",
   "execution_count": 116,
   "metadata": {},
   "outputs": [
    {
     "name": "stdout",
     "output_type": "stream",
     "text": [
      "step : 0 cost: 93.42359\tAccuracy: 73.00000% \n",
      "step : 1 cost: 94.12688\tAccuracy: 80.00000% \n",
      "step : 2 cost: 93.20909\tAccuracy: 71.00000% \n",
      "step : 3 cost: 95.35642\tAccuracy: 80.00000% \n",
      "step : 4 cost: 95.58890\tAccuracy: 81.00000% \n",
      "step : 5 cost: 94.68613\tAccuracy: 78.00000% \n",
      "step : 6 cost: 95.20033\tAccuracy: 81.00000% \n",
      "step : 7 cost: 94.61425\tAccuracy: 74.00000% \n",
      "step : 8 cost: 95.31319\tAccuracy: 77.00000% \n",
      "step : 9 cost: 96.13261\tAccuracy: 78.00000% \n",
      "step : 10 cost: 97.96166\tAccuracy: 78.00000% \n",
      "step : 11 cost: 92.85165\tAccuracy: 78.00000% \n",
      "step : 12 cost: 93.82773\tAccuracy: 74.00000% \n",
      "step : 13 cost: 92.78666\tAccuracy: 73.00000% \n",
      "step : 14 cost: 98.60497\tAccuracy: 80.00000% \n",
      "step : 15 cost: 90.36755\tAccuracy: 78.00000% \n",
      "step : 16 cost: 91.32255\tAccuracy: 76.00000% \n",
      "step : 17 cost: 93.25501\tAccuracy: 73.00000% \n",
      "step : 18 cost: 98.01233\tAccuracy: 76.00000% \n",
      "step : 19 cost: 92.82852\tAccuracy: 77.00000% \n",
      "step : 20 cost: 95.93625\tAccuracy: 76.00000% \n",
      "step : 21 cost: 94.47120\tAccuracy: 79.00000% \n",
      "step : 22 cost: 90.53560\tAccuracy: 82.00000% \n",
      "step : 23 cost: 93.28783\tAccuracy: 78.00000% \n",
      "step : 24 cost: 92.46066\tAccuracy: 75.00000% \n",
      "step : 25 cost: 91.48402\tAccuracy: 77.00000% \n",
      "step : 26 cost: 95.43259\tAccuracy: 70.00000% \n",
      "step : 27 cost: 92.84482\tAccuracy: 77.00000% \n",
      "step : 28 cost: 93.74326\tAccuracy: 73.00000% \n",
      "step : 29 cost: 92.68583\tAccuracy: 74.00000% \n",
      "step : 30 cost: 95.26081\tAccuracy: 80.00000% \n",
      "step : 31 cost: 92.33446\tAccuracy: 79.00000% \n",
      "step : 32 cost: 93.67807\tAccuracy: 78.00000% \n",
      "step : 33 cost: 93.93915\tAccuracy: 78.00000% \n",
      "step : 34 cost: 89.42664\tAccuracy: 77.00000% \n",
      "step : 35 cost: 91.04464\tAccuracy: 75.00000% \n",
      "step : 36 cost: 93.62448\tAccuracy: 73.00000% \n",
      "step : 37 cost: 96.00596\tAccuracy: 79.00000% \n",
      "step : 38 cost: 96.97488\tAccuracy: 82.00000% \n",
      "step : 39 cost: 90.06710\tAccuracy: 74.00000% \n",
      "step : 40 cost: 91.90247\tAccuracy: 71.00000% \n",
      "step : 41 cost: 91.97851\tAccuracy: 76.00000% \n",
      "step : 42 cost: 94.22607\tAccuracy: 80.00000% \n",
      "step : 43 cost: 94.77141\tAccuracy: 79.00000% \n",
      "step : 44 cost: 95.27603\tAccuracy: 78.00000% \n",
      "step : 45 cost: 88.16335\tAccuracy: 81.00000% \n",
      "step : 46 cost: 93.68427\tAccuracy: 80.00000% \n",
      "step : 47 cost: 91.48998\tAccuracy: 79.00000% \n",
      "step : 48 cost: 90.39076\tAccuracy: 84.00000% \n",
      "step : 49 cost: 93.31823\tAccuracy: 78.00000% \n",
      "step : 50 cost: 92.07564\tAccuracy: 76.00000% \n",
      "step : 51 cost: 93.99452\tAccuracy: 75.00000% \n",
      "step : 52 cost: 95.48470\tAccuracy: 74.00000% \n",
      "step : 53 cost: 92.56628\tAccuracy: 78.00000% \n",
      "step : 54 cost: 95.50625\tAccuracy: 82.00000% \n",
      "step : 55 cost: 91.43554\tAccuracy: 81.00000% \n",
      "step : 56 cost: 94.92848\tAccuracy: 74.00000% \n",
      "step : 57 cost: 93.20157\tAccuracy: 75.00000% \n",
      "step : 58 cost: 90.15397\tAccuracy: 74.00000% \n",
      "step : 59 cost: 91.47311\tAccuracy: 83.00000% \n",
      "step : 60 cost: 90.98399\tAccuracy: 78.00000% \n",
      "step : 61 cost: 90.36634\tAccuracy: 75.00000% \n",
      "step : 62 cost: 94.05210\tAccuracy: 82.00000% \n",
      "step : 63 cost: 91.43276\tAccuracy: 78.00000% \n",
      "step : 64 cost: 94.41610\tAccuracy: 82.00000% \n",
      "step : 65 cost: 91.63654\tAccuracy: 79.00000% \n",
      "step : 66 cost: 90.22785\tAccuracy: 78.00000% \n",
      "step : 67 cost: 90.43969\tAccuracy: 72.00000% \n",
      "step : 68 cost: 92.58379\tAccuracy: 82.00000% \n",
      "step : 69 cost: 91.16426\tAccuracy: 78.00000% \n",
      "step : 70 cost: 88.96466\tAccuracy: 79.00000% \n",
      "step : 71 cost: 93.70421\tAccuracy: 75.00000% \n",
      "step : 72 cost: 91.34951\tAccuracy: 80.00000% \n",
      "step : 73 cost: 91.27190\tAccuracy: 82.00000% \n",
      "step : 74 cost: 92.80336\tAccuracy: 77.00000% \n",
      "step : 75 cost: 92.74809\tAccuracy: 81.00000% \n",
      "step : 76 cost: 90.44048\tAccuracy: 76.00000% \n",
      "step : 77 cost: 90.32216\tAccuracy: 81.00000% \n",
      "step : 78 cost: 90.12587\tAccuracy: 81.00000% \n",
      "step : 79 cost: 92.24251\tAccuracy: 80.00000% \n",
      "step : 80 cost: 89.85506\tAccuracy: 80.00000% \n",
      "step : 81 cost: 94.10443\tAccuracy: 82.00000% \n",
      "step : 82 cost: 93.56400\tAccuracy: 81.00000% \n",
      "step : 83 cost: 91.05224\tAccuracy: 86.00000% \n",
      "step : 84 cost: 93.58209\tAccuracy: 78.00000% \n",
      "step : 85 cost: 90.80593\tAccuracy: 77.00000% \n",
      "step : 86 cost: 89.44226\tAccuracy: 76.00000% \n",
      "step : 87 cost: 90.48802\tAccuracy: 85.00000% \n",
      "step : 88 cost: 94.20903\tAccuracy: 79.00000% \n",
      "step : 89 cost: 88.58631\tAccuracy: 80.00000% \n",
      "step : 90 cost: 92.26453\tAccuracy: 78.00000% \n",
      "step : 91 cost: 88.85892\tAccuracy: 79.00000% \n",
      "step : 92 cost: 91.42335\tAccuracy: 79.00000% \n",
      "step : 93 cost: 91.34764\tAccuracy: 75.00000% \n",
      "step : 94 cost: 91.37684\tAccuracy: 77.00000% \n",
      "step : 95 cost: 92.05257\tAccuracy: 80.00000% \n",
      "step : 96 cost: 93.81032\tAccuracy: 80.00000% \n",
      "step : 97 cost: 91.44732\tAccuracy: 74.00000% \n",
      "step : 98 cost: 87.77038\tAccuracy: 77.00000% \n",
      "step : 99 cost: 92.89262\tAccuracy: 78.00000% \n"
     ]
    }
   ],
   "source": [
    "# run!\n",
    "for step in range(100):\n",
    "    av_cost = 0\n",
    "    for i in range(datas.total_batch):\n",
    "        co_v, _ = sess.run([cost, train], feed_dict = {X: datas.x, Y: datas.y})\n",
    "        datas.next_batch()\n",
    "        av_cost += co_v / datas.total_batch\n",
    "    \n",
    "\n",
    "    print('step : {} cost: {:.5f}'.format(step, av_cost),end='\\t')\n",
    "    print('Accuracy: {:.5f}% ' .format(\n",
    "        accuracy.eval(\n",
    "        session=sess, \n",
    "        feed_dict = {X: datas.x, Y: datas.y}) * 100))"
   ]
  },
  {
   "cell_type": "markdown",
   "metadata": {},
   "source": [
    "## Test model with test datas "
   ]
  },
  {
   "cell_type": "code",
   "execution_count": 115,
   "metadata": {},
   "outputs": [
    {
     "name": "stdout",
     "output_type": "stream",
     "text": [
      "----- TEST -----\n",
      "Accuracy: 81.64% \n",
      "\n"
     ]
    },
    {
     "data": {
      "image/png": "[encoded data removed]",
      "text/plain": [
       "<Figure size 432x288 with 9 Axes>"
      ]
     },
     "metadata": {},
     "output_type": "display_data"
    }
   ],
   "source": [
    "\n",
    "import random\n",
    "#import and cut datas\n",
    "test_data = pd.read_csv('fashion-mnist_test.csv', dtype='float32')\n",
    "test_data = np.array(train_data)\n",
    "test_Y = test_data[:,[0]]\n",
    "test_X = test_data[:,1:]\n",
    "\n",
    "test = BatchGenerator(test_X, test_Y, batch_size=50000 ,one_hot=True, nb_classes=10)\n",
    "\n",
    "\n",
    "print('----- TEST -----')\n",
    "print('Accuracy: {:.2f}% \\n' \n",
    "      .format(accuracy.eval(session=sess, feed_dict={X:test.x, Y:test.y}) * 100 ,'%'))\n",
    "\n",
    "for i in range(9):\n",
    "    \n",
    "    r = random.randint(0, 1000 - 1)\n",
    "    plt.subplot(3,3,i+1)\n",
    "\n",
    "    plt.title('Label: {}, Pre: {}'.format(sess.run(tf.arg_max(test.y[r:r+1], 1)),\n",
    "                                                  sess.run(tf.arg_max(hypothesis, 1), \n",
    "                                                           feed_dict={X: test.x[r:r+1]})))\n",
    "    plt.imshow(test.x[r:r+1].reshape(28, 28),\n",
    "          cmap = 'Greys', interpolation='nearest')\n",
    "    plt.tight_layout()"
   ]
  },
  {
   "cell_type": "code",
   "execution_count": null,
   "metadata": {},
   "outputs": [],
   "source": []
  }
 ],
 "metadata": {
  "kernelspec": {
   "display_name": "Python 3",
   "language": "python",
   "name": "python3"
  },
  "language_info": {
   "codemirror_mode": {
    "name": "ipython",
    "version": 3
   },
   "file_extension": ".py",
   "mimetype": "text/x-python",
   "name": "python",
   "nbconvert_exporter": "python",
   "pygments_lexer": "ipython3",
   "version": "3.6.4"
  }
 },
 "nbformat": 4,
 "nbformat_minor": 2
}
