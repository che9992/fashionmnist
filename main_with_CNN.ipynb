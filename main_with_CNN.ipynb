{
 "cells": [
  {
   "cell_type": "markdown",
   "metadata": {},
   "source": [
    "# fashion mnist with CNN\n",
    "<hr/>"
   ]
  },
  {
   "cell_type": "code",
   "execution_count": 96,
   "metadata": {},
   "outputs": [],
   "source": [
    "import numpy as np\n",
    "import pandas as pd\n",
    "import tensorflow as tf\n",
    "import matplotlib.pyplot as plt\n",
    "import random"
   ]
  },
  {
   "cell_type": "code",
   "execution_count": 97,
   "metadata": {},
   "outputs": [],
   "source": [
    "#import and cut datas\n",
    "train_data = pd.read_csv('fashion-mnist_train.csv', dtype='float32')\n",
    "train_data = np.array(train_data)\n",
    "train_Y = train_data[:,[0]]\n",
    "train_X = train_data[:,1:]\n",
    "\n",
    "test_data = pd.read_csv('fashion-mnist_test.csv', dtype='float32')\n",
    "test_data = np.array(test_data)\n",
    "test_Y = test_data[:,[0]]\n",
    "test_X = test_data[:,1:]"
   ]
  },
  {
   "cell_type": "code",
   "execution_count": 3,
   "metadata": {},
   "outputs": [],
   "source": [
    "__author__ = \"cheayoung jung <che9992@gmail.com>\"\n",
    "__version__ = \"2018-06-01\"\n",
    "\n",
    "class BatchGenerator():\n",
    "    where = 0\n",
    "    '''\n",
    "    usage\n",
    "    \n",
    "    var = BatchGenerator(xdata, ydata, batch_size = 100)\n",
    "    var.x \n",
    "    var.y\n",
    "    var.next()\n",
    "    \n",
    "    '''\n",
    "    \n",
    "    def __init__(self, x, y, batch_size, one_hot = False, nb_classes = 0):\n",
    "        self.nb_classes = nb_classes\n",
    "        self.one_hot = one_hot\n",
    "        self.x_ = x\n",
    "        self.y_ = y\n",
    "        self.batch_size = batch_size\n",
    "        \n",
    "        self.total_batch = int(len(x) / batch_size)\n",
    "        self.x = self.x_[:batch_size,:]\n",
    "        self.y = self.y_[:batch_size,:]\n",
    "        self.where = batch_size\n",
    "        \n",
    "        if self.one_hot :\n",
    "            self.set_one_hot()\n",
    "\n",
    "    def next_batch(self):\n",
    "        if self.where + self.batch_size > len(self.x_) :\n",
    "            self.where = 0\n",
    "            \n",
    "        self.x = self.x_[self.where:self.where+self.batch_size,:]\n",
    "        self.y = self.y_[self.where:self.where+self.batch_size,:]\n",
    "        self.where += self.batch_size\n",
    "        \n",
    "        if self.one_hot:\n",
    "            self.set_one_hot()\n",
    "        \n",
    "    def set_one_hot(self):\n",
    "        self.y = np.int32(self.y)\n",
    "        one_hot = np.array(self.y).reshape(-1)\n",
    "        self.y = np.eye(self.nb_classes)[one_hot]"
   ]
  },
  {
   "cell_type": "code",
   "execution_count": 83,
   "metadata": {},
   "outputs": [],
   "source": [
    "tf.reset_default_graph()\n",
    "X = tf.placeholder(tf.float32, shape=[None, 784])\n",
    "Y = tf.placeholder(tf.float32, shape=[None, 10])\n",
    "X_img = tf.reshape(X, [-1, 28, 28, 1])\n",
    "\n",
    "W1 = tf.Variable(tf.random_normal([4, 4, 1, 32], stddev=0.01))\n",
    "L1 = tf.nn.conv2d(X_img, W1, strides=[1, 1, 1, 1], padding='SAME')\n",
    "L1 = tf.nn.relu(L1)\n",
    "L1 = tf.nn.max_pool(L1, ksize=[1, 2, 2, 1], strides=[1, 1, 1, 1], padding='SAME')"
   ]
  },
  {
   "cell_type": "code",
   "execution_count": 84,
   "metadata": {},
   "outputs": [],
   "source": [
    "W2 = tf.Variable(tf.random_normal([4, 4, 32, 64], stddev=0.01))\n",
    "L2 = tf.nn.conv2d(L1, W2, strides=[1,1,1,1], padding='SAME')\n",
    "L2 = tf.nn.relu(L2)\n",
    "L2 = tf.nn.max_pool(L2, ksize=[1, 2, 2, 1], strides=[1, 1, 1, 1], padding='SAME')"
   ]
  },
  {
   "cell_type": "code",
   "execution_count": 85,
   "metadata": {},
   "outputs": [],
   "source": [
    "W3 = tf.Variable(tf.random_normal([4, 4, 64, 128], stddev=0.01))\n",
    "L3 = tf.nn.conv2d(L2, W3, strides=[1,1,1,1], padding='SAME')\n",
    "L3 = tf.nn.relu(L3)\n",
    "L3 = tf.nn.dropout(L3, keep_prob=0.7)\n",
    "L3 = tf.nn.max_pool(L3, ksize=[1, 2, 2, 1], strides=[1, 2, 2, 1], padding='SAME')"
   ]
  },
  {
   "cell_type": "code",
   "execution_count": 86,
   "metadata": {},
   "outputs": [],
   "source": [
    "W4 = tf.Variable(tf.random_normal([4, 4, 128, 256], stddev=0.01))\n",
    "L4 = tf.nn.conv2d(L3, W4, strides=[1,1,1,1], padding='SAME')\n",
    "L4 = tf.nn.relu(L4)\n",
    "L4 = tf.nn.dropout(L4, keep_prob=0.7)\n",
    "L4 = tf.nn.max_pool(L4, ksize=[1,2,2,1], strides=[1,2,2,1], padding='SAME')"
   ]
  },
  {
   "cell_type": "code",
   "execution_count": 87,
   "metadata": {},
   "outputs": [],
   "source": [
    "W5 = tf.Variable(tf.random_normal([4, 4, 256, 256], stddev=0.01))\n",
    "L5 = tf.nn.conv2d(L4, W5, strides=[1,1,1,1], padding='SAME')\n",
    "L5 = tf.nn.relu(L5)\n",
    "L5 = tf.nn.max_pool(L5, ksize=[1,2,2,1], strides=[1,2,2,1], padding='SAME')"
   ]
  },
  {
   "cell_type": "code",
   "execution_count": 88,
   "metadata": {},
   "outputs": [],
   "source": [
    "L6 = tf.reshape(L5, [-1, 4 * 4 * 256])\n",
    "W6 = tf.get_variable('W6', shape=[4 * 4 * 256, 10],initializer=tf.contrib.layers.xavier_initializer())\n",
    "b = tf.Variable(tf.random_normal([10]))\n",
    "hypothesis = tf.matmul(L6, W6) + b\n",
    "\n",
    "cost = tf.reduce_mean(tf.nn.softmax_cross_entropy_with_logits_v2(logits=hypothesis, labels=Y))\n",
    "optimizer = tf.train.AdadeltaOptimizer(learning_rate=0.3).minimize(cost)"
   ]
  },
  {
   "cell_type": "code",
   "execution_count": 89,
   "metadata": {},
   "outputs": [],
   "source": [
    "sess = tf.Session()\n",
    "sess.run(tf.global_variables_initializer())"
   ]
  },
  {
   "cell_type": "code",
   "execution_count": 94,
   "metadata": {
    "scrolled": false
   },
   "outputs": [
    {
     "name": "stdout",
     "output_type": "stream",
     "text": [
      "Leaning started, It takes sometime.\n",
      "Epoch:0001 cost = 0.036456810\n",
      "Epoch:0002 cost = 0.031329955\n",
      "Epoch:0003 cost = 0.030737950\n",
      "Epoch:0004 cost = 0.029852898\n",
      "Epoch:0005 cost = 0.025672138\n",
      "Epoch:0006 cost = 0.024922871\n",
      "Epoch:0007 cost = 0.021221392\n",
      "Epoch:0008 cost = 0.020649768\n",
      "Epoch:0009 cost = 0.019128373\n",
      "Epoch:0010 cost = 0.019633803\n"
     ]
    }
   ],
   "source": [
    "batch = BatchGenerator(train_X, train_Y, batch_size=200, nb_classes=10,one_hot=True)\n",
    "training_epochs = 10\n",
    "\n",
    "print('Leaning started, It takes sometime.')\n",
    "for epoch in range(training_epochs):\n",
    "    avg_cost = 0\n",
    "    for i in range(batch.total_batch):\n",
    "        feed_dict = {X: batch.x, Y: batch.y}\n",
    "        c, _, = sess.run([cost, optimizer], feed_dict=feed_dict)\n",
    "        avg_cost += c / batch.total_batch\n",
    "        batch.next_batch()\n",
    "    print('Epoch:' '%04d' % (epoch + 1), 'cost =', '{:.9f}'.format(avg_cost))"
   ]
  },
  {
   "cell_type": "markdown",
   "metadata": {},
   "source": [
    "when i gave dropout one time , there are 7% different between TRAIN accuracy and TEST accuracy \n",
    "\n",
    "but i gave drop out two times , there are only 3~5 % different"
   ]
  },
  {
   "cell_type": "code",
   "execution_count": 101,
   "metadata": {
    "scrolled": true
   },
   "outputs": [
    {
     "name": "stdout",
     "output_type": "stream",
     "text": [
      "----- TRAIN DATA ACCURACY -----\n",
      "98.66833344101906 %\n",
      "----- TEST DATA ACCURACY -----\n",
      "93.03000032901764 %\n"
     ]
    },
    {
     "data": {
      "image/png": "[encoded data removed]",
      "text/plain": [
       "<Figure size 432x288 with 9 Axes>"
      ]
     },
     "metadata": {},
     "output_type": "display_data"
    }
   ],
   "source": [
    "correct_prediction = tf.equal(tf.argmax(hypothesis, 1), tf.argmax(Y, 1))\n",
    "accuracy = tf.reduce_mean(tf.cast(correct_prediction, tf.float32))\n",
    "\n",
    "\n",
    "print('----- TRAIN DATA ACCURACY -----')\n",
    "accu  = 0\n",
    "batch = BatchGenerator(train_X, train_Y, batch_size=500, nb_classes=10,one_hot=True)\n",
    "for i in range(batch.total_batch):\n",
    "    feed_dict = {X:batch.x, Y:batch.y}\n",
    "    accu += sess.run(accuracy, feed_dict=feed_dict)\n",
    "    batch.next_batch()\n",
    "\n",
    "print( (accu / batch.total_batch) * 100 , '%' )\n",
    "\n",
    "\n",
    "print('----- TEST DATA ACCURACY -----')\n",
    "accu  = 0\n",
    "test = BatchGenerator(test_X, test_Y, batch_size=500 ,one_hot=True, nb_classes=10)\n",
    "for i in range(test.total_batch):\n",
    "    feed_dict = {X:test.x, Y:test.y}\n",
    "    accu += sess.run(accuracy, feed_dict=feed_dict)\n",
    "    test.next_batch()\n",
    "\n",
    "print( (accu / test.total_batch) * 100 , '%' )\n",
    "\n",
    "for i in range(9):\n",
    "    \n",
    "    r = random.randint(0, len(test.x))\n",
    "    plt.subplot(3,3,i+1)\n",
    "\n",
    "    plt.title('Label: {}, Pre: {}'.format(sess.run(tf.argmax(test.y[r:r+1], 1)),\n",
    "                                                  sess.run(tf.argmax(hypothesis, 1), \n",
    "                                                           feed_dict={X: test.x[r:r+1]})))\n",
    "    plt.imshow(test.x[r:r+1].reshape(28, 28),\n",
    "          cmap = 'Greys', interpolation='nearest')\n",
    "    plt.tight_layout()"
   ]
  },
  {
   "cell_type": "markdown",
   "metadata": {},
   "source": []
  },
  {
   "cell_type": "code",
   "execution_count": null,
   "metadata": {},
   "outputs": [],
   "source": []
  }
 ],
 "metadata": {
  "kernelspec": {
   "display_name": "Python 3",
   "language": "python",
   "name": "python3"
  },
  "language_info": {
   "codemirror_mode": {
    "name": "ipython",
    "version": 3
   },
   "file_extension": ".py",
   "mimetype": "text/x-python",
   "name": "python",
   "nbconvert_exporter": "python",
   "pygments_lexer": "ipython3",
   "version": "3.6.5"
  }
 },
 "nbformat": 4,
 "nbformat_minor": 2
}
